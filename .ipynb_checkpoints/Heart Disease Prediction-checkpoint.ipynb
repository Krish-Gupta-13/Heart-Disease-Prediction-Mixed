{
 "cells": [
  {
   "cell_type": "markdown",
   "id": "fe5577e9-1356-41b3-bed7-0ad4ca570af8",
   "metadata": {},
   "source": [
    "# IMPORTING THE LIBRARIES"
   ]
  },
  {
   "cell_type": "code",
   "execution_count": 458,
   "id": "529d29e4-1276-46e8-ac5c-c6d3e6ec211a",
   "metadata": {},
   "outputs": [],
   "source": [
    "import pandas as pd\n",
    "import numpy as np\n",
    "import matplotlib.pyplot as plt\n",
    "\n",
    "from sklearn.model_selection import train_test_split, cross_val_score\n",
    "from sklearn.linear_model import LogisticRegression\n",
    "from sklearn.tree import DecisionTreeClassifier\n",
    "from sklearn.ensemble import RandomForestClassifier\n",
    "from sklearn.svm import SVC\n",
    "from sklearn.neighbors import KNeighborsClassifier\n",
    "from mlxtend.regressor import StackingRegressor\n",
    "\n",
    "from sklearn.preprocessing import StandardScaler\n",
    "from sklearn.metrics import mean_squared_error, accuracy_score, mean_squared_error, confusion_matrix\n",
    "\n",
    "import warnings\n",
    "warnings.filterwarnings('ignore')"
   ]
  },
  {
   "cell_type": "code",
   "execution_count": 15,
   "id": "787dee62-ebf4-40e8-912d-a6748d519098",
   "metadata": {},
   "outputs": [],
   "source": [
    "df = pd.read_csv(\"HeartAttack (1).csv\", na_values=\"?\")  # Importing the csv file"
   ]
  },
  {
   "cell_type": "markdown",
   "id": "075d5fe1-9418-4800-be6f-3b1a89fe2d89",
   "metadata": {},
   "source": [
    "# ANALYSIS AND CLEANING OF THE DATASET"
   ]
  },
  {
   "cell_type": "code",
   "execution_count": 16,
   "id": "4281e31a-af03-4a5f-8288-3350c9213f0a",
   "metadata": {},
   "outputs": [
    {
     "data": {
      "text/html": [
       "<div>\n",
       "<style scoped>\n",
       "    .dataframe tbody tr th:only-of-type {\n",
       "        vertical-align: middle;\n",
       "    }\n",
       "\n",
       "    .dataframe tbody tr th {\n",
       "        vertical-align: top;\n",
       "    }\n",
       "\n",
       "    .dataframe thead th {\n",
       "        text-align: right;\n",
       "    }\n",
       "</style>\n",
       "<table border=\"1\" class=\"dataframe\">\n",
       "  <thead>\n",
       "    <tr style=\"text-align: right;\">\n",
       "      <th></th>\n",
       "      <th>age</th>\n",
       "      <th>sex</th>\n",
       "      <th>cp</th>\n",
       "      <th>trestbps</th>\n",
       "      <th>chol</th>\n",
       "      <th>fbs</th>\n",
       "      <th>restecg</th>\n",
       "      <th>thalach</th>\n",
       "      <th>exang</th>\n",
       "      <th>oldpeak</th>\n",
       "      <th>slope</th>\n",
       "      <th>ca</th>\n",
       "      <th>thal</th>\n",
       "      <th>num</th>\n",
       "    </tr>\n",
       "  </thead>\n",
       "  <tbody>\n",
       "    <tr>\n",
       "      <th>0</th>\n",
       "      <td>28</td>\n",
       "      <td>1</td>\n",
       "      <td>2</td>\n",
       "      <td>130.0</td>\n",
       "      <td>132.0</td>\n",
       "      <td>0.0</td>\n",
       "      <td>2.0</td>\n",
       "      <td>185.0</td>\n",
       "      <td>0.0</td>\n",
       "      <td>0.0</td>\n",
       "      <td>NaN</td>\n",
       "      <td>NaN</td>\n",
       "      <td>NaN</td>\n",
       "      <td>0</td>\n",
       "    </tr>\n",
       "    <tr>\n",
       "      <th>1</th>\n",
       "      <td>29</td>\n",
       "      <td>1</td>\n",
       "      <td>2</td>\n",
       "      <td>120.0</td>\n",
       "      <td>243.0</td>\n",
       "      <td>0.0</td>\n",
       "      <td>0.0</td>\n",
       "      <td>160.0</td>\n",
       "      <td>0.0</td>\n",
       "      <td>0.0</td>\n",
       "      <td>NaN</td>\n",
       "      <td>NaN</td>\n",
       "      <td>NaN</td>\n",
       "      <td>0</td>\n",
       "    </tr>\n",
       "    <tr>\n",
       "      <th>2</th>\n",
       "      <td>29</td>\n",
       "      <td>1</td>\n",
       "      <td>2</td>\n",
       "      <td>140.0</td>\n",
       "      <td>NaN</td>\n",
       "      <td>0.0</td>\n",
       "      <td>0.0</td>\n",
       "      <td>170.0</td>\n",
       "      <td>0.0</td>\n",
       "      <td>0.0</td>\n",
       "      <td>NaN</td>\n",
       "      <td>NaN</td>\n",
       "      <td>NaN</td>\n",
       "      <td>0</td>\n",
       "    </tr>\n",
       "    <tr>\n",
       "      <th>3</th>\n",
       "      <td>30</td>\n",
       "      <td>0</td>\n",
       "      <td>1</td>\n",
       "      <td>170.0</td>\n",
       "      <td>237.0</td>\n",
       "      <td>0.0</td>\n",
       "      <td>1.0</td>\n",
       "      <td>170.0</td>\n",
       "      <td>0.0</td>\n",
       "      <td>0.0</td>\n",
       "      <td>NaN</td>\n",
       "      <td>NaN</td>\n",
       "      <td>6.0</td>\n",
       "      <td>0</td>\n",
       "    </tr>\n",
       "    <tr>\n",
       "      <th>4</th>\n",
       "      <td>31</td>\n",
       "      <td>0</td>\n",
       "      <td>2</td>\n",
       "      <td>100.0</td>\n",
       "      <td>219.0</td>\n",
       "      <td>0.0</td>\n",
       "      <td>1.0</td>\n",
       "      <td>150.0</td>\n",
       "      <td>0.0</td>\n",
       "      <td>0.0</td>\n",
       "      <td>NaN</td>\n",
       "      <td>NaN</td>\n",
       "      <td>NaN</td>\n",
       "      <td>0</td>\n",
       "    </tr>\n",
       "  </tbody>\n",
       "</table>\n",
       "</div>"
      ],
      "text/plain": [
       "   age  sex  cp  trestbps   chol  fbs  restecg  thalach  exang  oldpeak  \\\n",
       "0   28    1   2     130.0  132.0  0.0      2.0    185.0    0.0      0.0   \n",
       "1   29    1   2     120.0  243.0  0.0      0.0    160.0    0.0      0.0   \n",
       "2   29    1   2     140.0    NaN  0.0      0.0    170.0    0.0      0.0   \n",
       "3   30    0   1     170.0  237.0  0.0      1.0    170.0    0.0      0.0   \n",
       "4   31    0   2     100.0  219.0  0.0      1.0    150.0    0.0      0.0   \n",
       "\n",
       "   slope  ca  thal  num         \n",
       "0    NaN NaN   NaN           0  \n",
       "1    NaN NaN   NaN           0  \n",
       "2    NaN NaN   NaN           0  \n",
       "3    NaN NaN   6.0           0  \n",
       "4    NaN NaN   NaN           0  "
      ]
     },
     "execution_count": 16,
     "metadata": {},
     "output_type": "execute_result"
    }
   ],
   "source": [
    "df.head()"
   ]
  },
  {
   "cell_type": "code",
   "execution_count": 5,
   "id": "5e20cb1d-f25f-4d85-8df0-c77f6ae8c2a7",
   "metadata": {},
   "outputs": [
    {
     "data": {
      "text/html": [
       "<div>\n",
       "<style scoped>\n",
       "    .dataframe tbody tr th:only-of-type {\n",
       "        vertical-align: middle;\n",
       "    }\n",
       "\n",
       "    .dataframe tbody tr th {\n",
       "        vertical-align: top;\n",
       "    }\n",
       "\n",
       "    .dataframe thead th {\n",
       "        text-align: right;\n",
       "    }\n",
       "</style>\n",
       "<table border=\"1\" class=\"dataframe\">\n",
       "  <thead>\n",
       "    <tr style=\"text-align: right;\">\n",
       "      <th></th>\n",
       "      <th>age</th>\n",
       "      <th>sex</th>\n",
       "      <th>cp</th>\n",
       "      <th>trestbps</th>\n",
       "      <th>chol</th>\n",
       "      <th>fbs</th>\n",
       "      <th>restecg</th>\n",
       "      <th>thalach</th>\n",
       "      <th>exang</th>\n",
       "      <th>oldpeak</th>\n",
       "      <th>slope</th>\n",
       "      <th>ca</th>\n",
       "      <th>thal</th>\n",
       "      <th>num</th>\n",
       "    </tr>\n",
       "  </thead>\n",
       "  <tbody>\n",
       "    <tr>\n",
       "      <th>289</th>\n",
       "      <td>52</td>\n",
       "      <td>1</td>\n",
       "      <td>4</td>\n",
       "      <td>160</td>\n",
       "      <td>331</td>\n",
       "      <td>0</td>\n",
       "      <td>0</td>\n",
       "      <td>94</td>\n",
       "      <td>1</td>\n",
       "      <td>2.5</td>\n",
       "      <td>?</td>\n",
       "      <td>?</td>\n",
       "      <td>?</td>\n",
       "      <td>1</td>\n",
       "    </tr>\n",
       "    <tr>\n",
       "      <th>290</th>\n",
       "      <td>54</td>\n",
       "      <td>0</td>\n",
       "      <td>3</td>\n",
       "      <td>130</td>\n",
       "      <td>294</td>\n",
       "      <td>0</td>\n",
       "      <td>1</td>\n",
       "      <td>100</td>\n",
       "      <td>1</td>\n",
       "      <td>0.0</td>\n",
       "      <td>2</td>\n",
       "      <td>?</td>\n",
       "      <td>?</td>\n",
       "      <td>1</td>\n",
       "    </tr>\n",
       "    <tr>\n",
       "      <th>291</th>\n",
       "      <td>56</td>\n",
       "      <td>1</td>\n",
       "      <td>4</td>\n",
       "      <td>155</td>\n",
       "      <td>342</td>\n",
       "      <td>1</td>\n",
       "      <td>0</td>\n",
       "      <td>150</td>\n",
       "      <td>1</td>\n",
       "      <td>3.0</td>\n",
       "      <td>2</td>\n",
       "      <td>?</td>\n",
       "      <td>?</td>\n",
       "      <td>1</td>\n",
       "    </tr>\n",
       "    <tr>\n",
       "      <th>292</th>\n",
       "      <td>58</td>\n",
       "      <td>0</td>\n",
       "      <td>2</td>\n",
       "      <td>180</td>\n",
       "      <td>393</td>\n",
       "      <td>0</td>\n",
       "      <td>0</td>\n",
       "      <td>110</td>\n",
       "      <td>1</td>\n",
       "      <td>1.0</td>\n",
       "      <td>2</td>\n",
       "      <td>?</td>\n",
       "      <td>7</td>\n",
       "      <td>1</td>\n",
       "    </tr>\n",
       "    <tr>\n",
       "      <th>293</th>\n",
       "      <td>65</td>\n",
       "      <td>1</td>\n",
       "      <td>4</td>\n",
       "      <td>130</td>\n",
       "      <td>275</td>\n",
       "      <td>0</td>\n",
       "      <td>1</td>\n",
       "      <td>115</td>\n",
       "      <td>1</td>\n",
       "      <td>1.0</td>\n",
       "      <td>2</td>\n",
       "      <td>?</td>\n",
       "      <td>?</td>\n",
       "      <td>1</td>\n",
       "    </tr>\n",
       "  </tbody>\n",
       "</table>\n",
       "</div>"
      ],
      "text/plain": [
       "     age  sex  cp trestbps chol fbs restecg thalach exang  oldpeak slope ca  \\\n",
       "289   52    1   4      160  331   0       0      94     1      2.5     ?  ?   \n",
       "290   54    0   3      130  294   0       1     100     1      0.0     2  ?   \n",
       "291   56    1   4      155  342   1       0     150     1      3.0     2  ?   \n",
       "292   58    0   2      180  393   0       0     110     1      1.0     2  ?   \n",
       "293   65    1   4      130  275   0       1     115     1      1.0     2  ?   \n",
       "\n",
       "    thal  num         \n",
       "289    ?           1  \n",
       "290    ?           1  \n",
       "291    ?           1  \n",
       "292    7           1  \n",
       "293    ?           1  "
      ]
     },
     "execution_count": 5,
     "metadata": {},
     "output_type": "execute_result"
    }
   ],
   "source": [
    "df.tail()"
   ]
  },
  {
   "cell_type": "code",
   "execution_count": 17,
   "id": "16d7b78e-e301-4aac-99f6-7e76051c30e0",
   "metadata": {},
   "outputs": [
    {
     "name": "stdout",
     "output_type": "stream",
     "text": [
      "<class 'pandas.core.frame.DataFrame'>\n",
      "RangeIndex: 294 entries, 0 to 293\n",
      "Data columns (total 14 columns):\n",
      " #   Column      Non-Null Count  Dtype  \n",
      "---  ------      --------------  -----  \n",
      " 0   age         294 non-null    int64  \n",
      " 1   sex         294 non-null    int64  \n",
      " 2   cp          294 non-null    int64  \n",
      " 3   trestbps    293 non-null    float64\n",
      " 4   chol        271 non-null    float64\n",
      " 5   fbs         286 non-null    float64\n",
      " 6   restecg     293 non-null    float64\n",
      " 7   thalach     293 non-null    float64\n",
      " 8   exang       293 non-null    float64\n",
      " 9   oldpeak     294 non-null    float64\n",
      " 10  slope       104 non-null    float64\n",
      " 11  ca          3 non-null      float64\n",
      " 12  thal        28 non-null     float64\n",
      " 13  num         294 non-null    int64  \n",
      "dtypes: float64(10), int64(4)\n",
      "memory usage: 32.3 KB\n"
     ]
    }
   ],
   "source": [
    "df.info()"
   ]
  },
  {
   "cell_type": "code",
   "execution_count": 18,
   "id": "0affe7ff-7314-4e7d-b0db-a5331c6bd737",
   "metadata": {},
   "outputs": [
    {
     "data": {
      "text/plain": [
       "age             0\n",
       "sex             0\n",
       "cp              0\n",
       "trestbps        1\n",
       "chol           23\n",
       "fbs             8\n",
       "restecg         1\n",
       "thalach         1\n",
       "exang           1\n",
       "oldpeak         0\n",
       "slope         190\n",
       "ca            291\n",
       "thal          266\n",
       "num             0\n",
       "dtype: int64"
      ]
     },
     "execution_count": 18,
     "metadata": {},
     "output_type": "execute_result"
    }
   ],
   "source": [
    "df.isnull().sum()"
   ]
  },
  {
   "cell_type": "code",
   "execution_count": 13,
   "id": "43e40662-6974-4d58-8c3a-8a8397034c62",
   "metadata": {},
   "outputs": [
    {
     "data": {
      "text/plain": [
       "47.826530612244895"
      ]
     },
     "execution_count": 13,
     "metadata": {},
     "output_type": "execute_result"
    }
   ],
   "source": [
    "df[\"age\"].unique()\n",
    "df[\"age\"].mean()"
   ]
  },
  {
   "cell_type": "code",
   "execution_count": 14,
   "id": "da762542-490f-472d-b70d-80df03a9eeb8",
   "metadata": {},
   "outputs": [
    {
     "data": {
      "text/html": [
       "<div>\n",
       "<style scoped>\n",
       "    .dataframe tbody tr th:only-of-type {\n",
       "        vertical-align: middle;\n",
       "    }\n",
       "\n",
       "    .dataframe tbody tr th {\n",
       "        vertical-align: top;\n",
       "    }\n",
       "\n",
       "    .dataframe thead th {\n",
       "        text-align: right;\n",
       "    }\n",
       "</style>\n",
       "<table border=\"1\" class=\"dataframe\">\n",
       "  <thead>\n",
       "    <tr style=\"text-align: right;\">\n",
       "      <th></th>\n",
       "      <th>age</th>\n",
       "      <th>sex</th>\n",
       "      <th>cp</th>\n",
       "      <th>oldpeak</th>\n",
       "      <th>num</th>\n",
       "    </tr>\n",
       "  </thead>\n",
       "  <tbody>\n",
       "    <tr>\n",
       "      <th>count</th>\n",
       "      <td>294.000000</td>\n",
       "      <td>294.000000</td>\n",
       "      <td>294.000000</td>\n",
       "      <td>294.000000</td>\n",
       "      <td>294.000000</td>\n",
       "    </tr>\n",
       "    <tr>\n",
       "      <th>mean</th>\n",
       "      <td>47.826531</td>\n",
       "      <td>0.724490</td>\n",
       "      <td>2.982993</td>\n",
       "      <td>0.586054</td>\n",
       "      <td>0.360544</td>\n",
       "    </tr>\n",
       "    <tr>\n",
       "      <th>std</th>\n",
       "      <td>7.811812</td>\n",
       "      <td>0.447533</td>\n",
       "      <td>0.965117</td>\n",
       "      <td>0.908648</td>\n",
       "      <td>0.480977</td>\n",
       "    </tr>\n",
       "    <tr>\n",
       "      <th>min</th>\n",
       "      <td>28.000000</td>\n",
       "      <td>0.000000</td>\n",
       "      <td>1.000000</td>\n",
       "      <td>0.000000</td>\n",
       "      <td>0.000000</td>\n",
       "    </tr>\n",
       "    <tr>\n",
       "      <th>25%</th>\n",
       "      <td>42.000000</td>\n",
       "      <td>0.000000</td>\n",
       "      <td>2.000000</td>\n",
       "      <td>0.000000</td>\n",
       "      <td>0.000000</td>\n",
       "    </tr>\n",
       "    <tr>\n",
       "      <th>50%</th>\n",
       "      <td>49.000000</td>\n",
       "      <td>1.000000</td>\n",
       "      <td>3.000000</td>\n",
       "      <td>0.000000</td>\n",
       "      <td>0.000000</td>\n",
       "    </tr>\n",
       "    <tr>\n",
       "      <th>75%</th>\n",
       "      <td>54.000000</td>\n",
       "      <td>1.000000</td>\n",
       "      <td>4.000000</td>\n",
       "      <td>1.000000</td>\n",
       "      <td>1.000000</td>\n",
       "    </tr>\n",
       "    <tr>\n",
       "      <th>max</th>\n",
       "      <td>66.000000</td>\n",
       "      <td>1.000000</td>\n",
       "      <td>4.000000</td>\n",
       "      <td>5.000000</td>\n",
       "      <td>1.000000</td>\n",
       "    </tr>\n",
       "  </tbody>\n",
       "</table>\n",
       "</div>"
      ],
      "text/plain": [
       "              age         sex          cp     oldpeak  num       \n",
       "count  294.000000  294.000000  294.000000  294.000000  294.000000\n",
       "mean    47.826531    0.724490    2.982993    0.586054    0.360544\n",
       "std      7.811812    0.447533    0.965117    0.908648    0.480977\n",
       "min     28.000000    0.000000    1.000000    0.000000    0.000000\n",
       "25%     42.000000    0.000000    2.000000    0.000000    0.000000\n",
       "50%     49.000000    1.000000    3.000000    0.000000    0.000000\n",
       "75%     54.000000    1.000000    4.000000    1.000000    1.000000\n",
       "max     66.000000    1.000000    4.000000    5.000000    1.000000"
      ]
     },
     "execution_count": 14,
     "metadata": {},
     "output_type": "execute_result"
    }
   ],
   "source": [
    "df.describe()"
   ]
  },
  {
   "cell_type": "code",
   "execution_count": 21,
   "id": "092cf574-3bef-4d71-a331-31afa2dcc2f4",
   "metadata": {},
   "outputs": [],
   "source": [
    "df.drop([\"thal\", \"ca\", \"slope\"], axis=1, inplace=True)"
   ]
  },
  {
   "cell_type": "code",
   "execution_count": 22,
   "id": "9ab21273-7152-41ee-83dc-96a2119d94d3",
   "metadata": {},
   "outputs": [
    {
     "data": {
      "text/html": [
       "<div>\n",
       "<style scoped>\n",
       "    .dataframe tbody tr th:only-of-type {\n",
       "        vertical-align: middle;\n",
       "    }\n",
       "\n",
       "    .dataframe tbody tr th {\n",
       "        vertical-align: top;\n",
       "    }\n",
       "\n",
       "    .dataframe thead th {\n",
       "        text-align: right;\n",
       "    }\n",
       "</style>\n",
       "<table border=\"1\" class=\"dataframe\">\n",
       "  <thead>\n",
       "    <tr style=\"text-align: right;\">\n",
       "      <th></th>\n",
       "      <th>age</th>\n",
       "      <th>sex</th>\n",
       "      <th>cp</th>\n",
       "      <th>trestbps</th>\n",
       "      <th>chol</th>\n",
       "      <th>fbs</th>\n",
       "      <th>restecg</th>\n",
       "      <th>thalach</th>\n",
       "      <th>exang</th>\n",
       "      <th>oldpeak</th>\n",
       "      <th>num</th>\n",
       "    </tr>\n",
       "  </thead>\n",
       "  <tbody>\n",
       "    <tr>\n",
       "      <th>0</th>\n",
       "      <td>28</td>\n",
       "      <td>1</td>\n",
       "      <td>2</td>\n",
       "      <td>130.0</td>\n",
       "      <td>132.0</td>\n",
       "      <td>0.0</td>\n",
       "      <td>2.0</td>\n",
       "      <td>185.0</td>\n",
       "      <td>0.0</td>\n",
       "      <td>0.0</td>\n",
       "      <td>0</td>\n",
       "    </tr>\n",
       "    <tr>\n",
       "      <th>1</th>\n",
       "      <td>29</td>\n",
       "      <td>1</td>\n",
       "      <td>2</td>\n",
       "      <td>120.0</td>\n",
       "      <td>243.0</td>\n",
       "      <td>0.0</td>\n",
       "      <td>0.0</td>\n",
       "      <td>160.0</td>\n",
       "      <td>0.0</td>\n",
       "      <td>0.0</td>\n",
       "      <td>0</td>\n",
       "    </tr>\n",
       "    <tr>\n",
       "      <th>2</th>\n",
       "      <td>29</td>\n",
       "      <td>1</td>\n",
       "      <td>2</td>\n",
       "      <td>140.0</td>\n",
       "      <td>NaN</td>\n",
       "      <td>0.0</td>\n",
       "      <td>0.0</td>\n",
       "      <td>170.0</td>\n",
       "      <td>0.0</td>\n",
       "      <td>0.0</td>\n",
       "      <td>0</td>\n",
       "    </tr>\n",
       "    <tr>\n",
       "      <th>3</th>\n",
       "      <td>30</td>\n",
       "      <td>0</td>\n",
       "      <td>1</td>\n",
       "      <td>170.0</td>\n",
       "      <td>237.0</td>\n",
       "      <td>0.0</td>\n",
       "      <td>1.0</td>\n",
       "      <td>170.0</td>\n",
       "      <td>0.0</td>\n",
       "      <td>0.0</td>\n",
       "      <td>0</td>\n",
       "    </tr>\n",
       "    <tr>\n",
       "      <th>4</th>\n",
       "      <td>31</td>\n",
       "      <td>0</td>\n",
       "      <td>2</td>\n",
       "      <td>100.0</td>\n",
       "      <td>219.0</td>\n",
       "      <td>0.0</td>\n",
       "      <td>1.0</td>\n",
       "      <td>150.0</td>\n",
       "      <td>0.0</td>\n",
       "      <td>0.0</td>\n",
       "      <td>0</td>\n",
       "    </tr>\n",
       "  </tbody>\n",
       "</table>\n",
       "</div>"
      ],
      "text/plain": [
       "   age  sex  cp  trestbps   chol  fbs  restecg  thalach  exang  oldpeak  \\\n",
       "0   28    1   2     130.0  132.0  0.0      2.0    185.0    0.0      0.0   \n",
       "1   29    1   2     120.0  243.0  0.0      0.0    160.0    0.0      0.0   \n",
       "2   29    1   2     140.0    NaN  0.0      0.0    170.0    0.0      0.0   \n",
       "3   30    0   1     170.0  237.0  0.0      1.0    170.0    0.0      0.0   \n",
       "4   31    0   2     100.0  219.0  0.0      1.0    150.0    0.0      0.0   \n",
       "\n",
       "   num         \n",
       "0           0  \n",
       "1           0  \n",
       "2           0  \n",
       "3           0  \n",
       "4           0  "
      ]
     },
     "execution_count": 22,
     "metadata": {},
     "output_type": "execute_result"
    }
   ],
   "source": [
    "df.head()"
   ]
  },
  {
   "cell_type": "code",
   "execution_count": 23,
   "id": "153aa2cc-245b-4a5c-90bd-95e937bbbd4a",
   "metadata": {},
   "outputs": [],
   "source": [
    "df = df.dropna()"
   ]
  },
  {
   "cell_type": "code",
   "execution_count": 25,
   "id": "1c95b995-5ae2-4d1c-bc4e-572d41d9cd81",
   "metadata": {},
   "outputs": [
    {
     "data": {
      "text/plain": [
       "age           0\n",
       "sex           0\n",
       "cp            0\n",
       "trestbps      0\n",
       "chol          0\n",
       "fbs           0\n",
       "restecg       0\n",
       "thalach       0\n",
       "exang         0\n",
       "oldpeak       0\n",
       "num           0\n",
       "dtype: int64"
      ]
     },
     "execution_count": 25,
     "metadata": {},
     "output_type": "execute_result"
    }
   ],
   "source": [
    "df.head()\n",
    "df.isnull().sum()"
   ]
  },
  {
   "cell_type": "code",
   "execution_count": 34,
   "id": "ddf1142e-72a0-4a29-9af5-729dc510e2cc",
   "metadata": {},
   "outputs": [
    {
     "data": {
      "image/png": "[encoded data removed]",
      "text/plain": [
       "<Figure size 640x480 with 1 Axes>"
      ]
     },
     "metadata": {},
     "output_type": "display_data"
    }
   ],
   "source": [
    "ax = df[\"sex\"].value_counts().plot(kind='bar')\n",
    "plt.xlabel('sex')\n",
    "plt.ylabel('count')\n",
    "plt.title(\"Sex distribution\")\n",
    "ax.set_xticklabels(['Male', 'Female'], rotation=0)\n",
    "plt.show()"
   ]
  },
  {
   "cell_type": "code",
   "execution_count": 36,
   "id": "3feaa5dc-091e-43db-8cdc-d85269aa48a7",
   "metadata": {},
   "outputs": [
    {
     "data": {
      "text/plain": [
       "cp\n",
       "4    113\n",
       "2     92\n",
       "3     46\n",
       "1     10\n",
       "Name: count, dtype: int64"
      ]
     },
     "execution_count": 36,
     "metadata": {},
     "output_type": "execute_result"
    }
   ],
   "source": [
    "df[\"cp\"].value_counts()"
   ]
  },
  {
   "cell_type": "code",
   "execution_count": 37,
   "id": "db2f0b23-56bc-4a23-b247-6b1eca2a07d2",
   "metadata": {},
   "outputs": [
    {
     "data": {
      "text/plain": [
       "restecg\n",
       "0.0    208\n",
       "1.0     47\n",
       "2.0      6\n",
       "Name: count, dtype: int64"
      ]
     },
     "execution_count": 37,
     "metadata": {},
     "output_type": "execute_result"
    }
   ],
   "source": [
    "df[\"restecg\"].value_counts()"
   ]
  },
  {
   "cell_type": "code",
   "execution_count": 39,
   "id": "f51213f5-0dd9-4422-b4f8-671521a76e18",
   "metadata": {},
   "outputs": [
    {
     "data": {
      "text/plain": [
       "fbs\n",
       "0.0    242\n",
       "1.0     19\n",
       "Name: count, dtype: int64"
      ]
     },
     "execution_count": 39,
     "metadata": {},
     "output_type": "execute_result"
    }
   ],
   "source": [
    "df[\"fbs\"].value_counts()"
   ]
  },
  {
   "cell_type": "code",
   "execution_count": 40,
   "id": "9be5138d-0e57-4446-84b9-b6f29404e65c",
   "metadata": {},
   "outputs": [],
   "source": [
    "df = pd.get_dummies(df, columns=[\"cp\", \"restecg\"])"
   ]
  },
  {
   "cell_type": "code",
   "execution_count": 41,
   "id": "b401a2ce-3177-47d5-85b6-6046b33cfd12",
   "metadata": {},
   "outputs": [
    {
     "data": {
      "text/html": [
       "<div>\n",
       "<style scoped>\n",
       "    .dataframe tbody tr th:only-of-type {\n",
       "        vertical-align: middle;\n",
       "    }\n",
       "\n",
       "    .dataframe tbody tr th {\n",
       "        vertical-align: top;\n",
       "    }\n",
       "\n",
       "    .dataframe thead th {\n",
       "        text-align: right;\n",
       "    }\n",
       "</style>\n",
       "<table border=\"1\" class=\"dataframe\">\n",
       "  <thead>\n",
       "    <tr style=\"text-align: right;\">\n",
       "      <th></th>\n",
       "      <th>age</th>\n",
       "      <th>sex</th>\n",
       "      <th>trestbps</th>\n",
       "      <th>chol</th>\n",
       "      <th>fbs</th>\n",
       "      <th>thalach</th>\n",
       "      <th>exang</th>\n",
       "      <th>oldpeak</th>\n",
       "      <th>num</th>\n",
       "      <th>cp_1</th>\n",
       "      <th>cp_2</th>\n",
       "      <th>cp_3</th>\n",
       "      <th>cp_4</th>\n",
       "      <th>restecg_0.0</th>\n",
       "      <th>restecg_1.0</th>\n",
       "      <th>restecg_2.0</th>\n",
       "    </tr>\n",
       "  </thead>\n",
       "  <tbody>\n",
       "    <tr>\n",
       "      <th>0</th>\n",
       "      <td>28</td>\n",
       "      <td>1</td>\n",
       "      <td>130.0</td>\n",
       "      <td>132.0</td>\n",
       "      <td>0.0</td>\n",
       "      <td>185.0</td>\n",
       "      <td>0.0</td>\n",
       "      <td>0.0</td>\n",
       "      <td>0</td>\n",
       "      <td>False</td>\n",
       "      <td>True</td>\n",
       "      <td>False</td>\n",
       "      <td>False</td>\n",
       "      <td>False</td>\n",
       "      <td>False</td>\n",
       "      <td>True</td>\n",
       "    </tr>\n",
       "    <tr>\n",
       "      <th>1</th>\n",
       "      <td>29</td>\n",
       "      <td>1</td>\n",
       "      <td>120.0</td>\n",
       "      <td>243.0</td>\n",
       "      <td>0.0</td>\n",
       "      <td>160.0</td>\n",
       "      <td>0.0</td>\n",
       "      <td>0.0</td>\n",
       "      <td>0</td>\n",
       "      <td>False</td>\n",
       "      <td>True</td>\n",
       "      <td>False</td>\n",
       "      <td>False</td>\n",
       "      <td>True</td>\n",
       "      <td>False</td>\n",
       "      <td>False</td>\n",
       "    </tr>\n",
       "    <tr>\n",
       "      <th>3</th>\n",
       "      <td>30</td>\n",
       "      <td>0</td>\n",
       "      <td>170.0</td>\n",
       "      <td>237.0</td>\n",
       "      <td>0.0</td>\n",
       "      <td>170.0</td>\n",
       "      <td>0.0</td>\n",
       "      <td>0.0</td>\n",
       "      <td>0</td>\n",
       "      <td>True</td>\n",
       "      <td>False</td>\n",
       "      <td>False</td>\n",
       "      <td>False</td>\n",
       "      <td>False</td>\n",
       "      <td>True</td>\n",
       "      <td>False</td>\n",
       "    </tr>\n",
       "    <tr>\n",
       "      <th>4</th>\n",
       "      <td>31</td>\n",
       "      <td>0</td>\n",
       "      <td>100.0</td>\n",
       "      <td>219.0</td>\n",
       "      <td>0.0</td>\n",
       "      <td>150.0</td>\n",
       "      <td>0.0</td>\n",
       "      <td>0.0</td>\n",
       "      <td>0</td>\n",
       "      <td>False</td>\n",
       "      <td>True</td>\n",
       "      <td>False</td>\n",
       "      <td>False</td>\n",
       "      <td>False</td>\n",
       "      <td>True</td>\n",
       "      <td>False</td>\n",
       "    </tr>\n",
       "    <tr>\n",
       "      <th>5</th>\n",
       "      <td>32</td>\n",
       "      <td>0</td>\n",
       "      <td>105.0</td>\n",
       "      <td>198.0</td>\n",
       "      <td>0.0</td>\n",
       "      <td>165.0</td>\n",
       "      <td>0.0</td>\n",
       "      <td>0.0</td>\n",
       "      <td>0</td>\n",
       "      <td>False</td>\n",
       "      <td>True</td>\n",
       "      <td>False</td>\n",
       "      <td>False</td>\n",
       "      <td>True</td>\n",
       "      <td>False</td>\n",
       "      <td>False</td>\n",
       "    </tr>\n",
       "  </tbody>\n",
       "</table>\n",
       "</div>"
      ],
      "text/plain": [
       "   age  sex  trestbps   chol  fbs  thalach  exang  oldpeak  num          cp_1  \\\n",
       "0   28    1     130.0  132.0  0.0    185.0    0.0      0.0           0  False   \n",
       "1   29    1     120.0  243.0  0.0    160.0    0.0      0.0           0  False   \n",
       "3   30    0     170.0  237.0  0.0    170.0    0.0      0.0           0   True   \n",
       "4   31    0     100.0  219.0  0.0    150.0    0.0      0.0           0  False   \n",
       "5   32    0     105.0  198.0  0.0    165.0    0.0      0.0           0  False   \n",
       "\n",
       "    cp_2   cp_3   cp_4  restecg_0.0  restecg_1.0  restecg_2.0  \n",
       "0   True  False  False        False        False         True  \n",
       "1   True  False  False         True        False        False  \n",
       "3  False  False  False        False         True        False  \n",
       "4   True  False  False        False         True        False  \n",
       "5   True  False  False         True        False        False  "
      ]
     },
     "execution_count": 41,
     "metadata": {},
     "output_type": "execute_result"
    }
   ],
   "source": [
    "df.head()"
   ]
  },
  {
   "cell_type": "code",
   "execution_count": 52,
   "id": "c5f53edf-18bd-4f58-9ab9-78755809e5f4",
   "metadata": {},
   "outputs": [],
   "source": [
    "df = df.rename(columns={\"num       \":\"result\", \"cp_1\":\"cp1\", \"cp_2\":\"cp2\",\"cp_3\":\"cp3\",\"cp_4\":\"cp4\", \"restecg_0.0\":\"restecg0\", \"restecg_1.0\":\"restecg1\",\"restecg_2.0\":\"restecg2\"})"
   ]
  },
  {
   "cell_type": "markdown",
   "id": "1881d288-1884-48cc-853b-441077d0d562",
   "metadata": {},
   "source": [
    "# STANDARDIZATION OF THE COLUMNS FOR BETTER PERFORMANCE"
   ]
  },
  {
   "cell_type": "code",
   "execution_count": 170,
   "id": "db0c67e8-0dd7-4638-b630-d1ff7482fc74",
   "metadata": {},
   "outputs": [
    {
     "name": "stdout",
     "output_type": "stream",
     "text": [
      "['fbs', 'exang', 'restecg0', 'sex', 'cp1', 'cp4', 'restecg1', 'restecg2', 'cp3', 'cp2']\n"
     ]
    }
   ],
   "source": [
    "scaler = StandardScaler()\n",
    "\n",
    "numerical_cols = [\"age\", \"trestbps\", \"chol\", \"thalach\",\"oldpeak\"]\n",
    "category_cols = list(set(df.columns) - set(numerical_cols) - {\"result\"})\n",
    "df[numerical_cols] = scaler.fit_transform(df[numerical_cols])   #Noramlization of dataset\n",
    "print(category_cols) "
   ]
  },
  {
   "cell_type": "code",
   "execution_count": 116,
   "id": "d5cb05ab-d8ba-432b-ad89-3ade282d9ef9",
   "metadata": {},
   "outputs": [
    {
     "name": "stdout",
     "output_type": "stream",
     "text": [
      "['age', 'trestbps', 'chol', 'thalach', 'oldpeak']\n"
     ]
    }
   ],
   "source": [
    "print(numerical_cols)"
   ]
  },
  {
   "cell_type": "code",
   "execution_count": 217,
   "id": "a325a527-96bb-4ff0-a958-b1ed4a3dfa59",
   "metadata": {},
   "outputs": [
    {
     "data": {
      "text/html": [
       "<div>\n",
       "<style scoped>\n",
       "    .dataframe tbody tr th:only-of-type {\n",
       "        vertical-align: middle;\n",
       "    }\n",
       "\n",
       "    .dataframe tbody tr th {\n",
       "        vertical-align: top;\n",
       "    }\n",
       "\n",
       "    .dataframe thead th {\n",
       "        text-align: right;\n",
       "    }\n",
       "</style>\n",
       "<table border=\"1\" class=\"dataframe\">\n",
       "  <thead>\n",
       "    <tr style=\"text-align: right;\">\n",
       "      <th></th>\n",
       "      <th>age</th>\n",
       "      <th>sex</th>\n",
       "      <th>trestbps</th>\n",
       "      <th>chol</th>\n",
       "      <th>fbs</th>\n",
       "      <th>thalach</th>\n",
       "      <th>exang</th>\n",
       "      <th>oldpeak</th>\n",
       "      <th>result</th>\n",
       "      <th>cp1</th>\n",
       "      <th>cp2</th>\n",
       "      <th>cp3</th>\n",
       "      <th>cp4</th>\n",
       "      <th>restecg0</th>\n",
       "      <th>restecg1</th>\n",
       "      <th>restecg2</th>\n",
       "    </tr>\n",
       "  </thead>\n",
       "  <tbody>\n",
       "    <tr>\n",
       "      <th>0</th>\n",
       "      <td>-2.525820</td>\n",
       "      <td>1</td>\n",
       "      <td>-0.149347</td>\n",
       "      <td>-1.782424</td>\n",
       "      <td>0.0</td>\n",
       "      <td>1.930425</td>\n",
       "      <td>0.0</td>\n",
       "      <td>-0.658254</td>\n",
       "      <td>0</td>\n",
       "      <td>False</td>\n",
       "      <td>True</td>\n",
       "      <td>False</td>\n",
       "      <td>False</td>\n",
       "      <td>False</td>\n",
       "      <td>False</td>\n",
       "      <td>True</td>\n",
       "    </tr>\n",
       "    <tr>\n",
       "      <th>1</th>\n",
       "      <td>-2.398061</td>\n",
       "      <td>1</td>\n",
       "      <td>-0.715089</td>\n",
       "      <td>-0.088855</td>\n",
       "      <td>0.0</td>\n",
       "      <td>0.876100</td>\n",
       "      <td>0.0</td>\n",
       "      <td>-0.658254</td>\n",
       "      <td>0</td>\n",
       "      <td>False</td>\n",
       "      <td>True</td>\n",
       "      <td>False</td>\n",
       "      <td>False</td>\n",
       "      <td>True</td>\n",
       "      <td>False</td>\n",
       "      <td>False</td>\n",
       "    </tr>\n",
       "    <tr>\n",
       "      <th>3</th>\n",
       "      <td>-2.270301</td>\n",
       "      <td>0</td>\n",
       "      <td>2.113621</td>\n",
       "      <td>-0.180399</td>\n",
       "      <td>0.0</td>\n",
       "      <td>1.297830</td>\n",
       "      <td>0.0</td>\n",
       "      <td>-0.658254</td>\n",
       "      <td>0</td>\n",
       "      <td>True</td>\n",
       "      <td>False</td>\n",
       "      <td>False</td>\n",
       "      <td>False</td>\n",
       "      <td>False</td>\n",
       "      <td>True</td>\n",
       "      <td>False</td>\n",
       "    </tr>\n",
       "    <tr>\n",
       "      <th>4</th>\n",
       "      <td>-2.142542</td>\n",
       "      <td>0</td>\n",
       "      <td>-1.846574</td>\n",
       "      <td>-0.455032</td>\n",
       "      <td>0.0</td>\n",
       "      <td>0.454370</td>\n",
       "      <td>0.0</td>\n",
       "      <td>-0.658254</td>\n",
       "      <td>0</td>\n",
       "      <td>False</td>\n",
       "      <td>True</td>\n",
       "      <td>False</td>\n",
       "      <td>False</td>\n",
       "      <td>False</td>\n",
       "      <td>True</td>\n",
       "      <td>False</td>\n",
       "    </tr>\n",
       "    <tr>\n",
       "      <th>5</th>\n",
       "      <td>-2.014782</td>\n",
       "      <td>0</td>\n",
       "      <td>-1.563703</td>\n",
       "      <td>-0.775437</td>\n",
       "      <td>0.0</td>\n",
       "      <td>1.086965</td>\n",
       "      <td>0.0</td>\n",
       "      <td>-0.658254</td>\n",
       "      <td>0</td>\n",
       "      <td>False</td>\n",
       "      <td>True</td>\n",
       "      <td>False</td>\n",
       "      <td>False</td>\n",
       "      <td>True</td>\n",
       "      <td>False</td>\n",
       "      <td>False</td>\n",
       "    </tr>\n",
       "  </tbody>\n",
       "</table>\n",
       "</div>"
      ],
      "text/plain": [
       "        age  sex  trestbps      chol  fbs   thalach  exang   oldpeak  result  \\\n",
       "0 -2.525820    1 -0.149347 -1.782424  0.0  1.930425    0.0 -0.658254       0   \n",
       "1 -2.398061    1 -0.715089 -0.088855  0.0  0.876100    0.0 -0.658254       0   \n",
       "3 -2.270301    0  2.113621 -0.180399  0.0  1.297830    0.0 -0.658254       0   \n",
       "4 -2.142542    0 -1.846574 -0.455032  0.0  0.454370    0.0 -0.658254       0   \n",
       "5 -2.014782    0 -1.563703 -0.775437  0.0  1.086965    0.0 -0.658254       0   \n",
       "\n",
       "     cp1    cp2    cp3    cp4  restecg0  restecg1  restecg2  \n",
       "0  False   True  False  False     False     False      True  \n",
       "1  False   True  False  False      True     False     False  \n",
       "3   True  False  False  False     False      True     False  \n",
       "4  False   True  False  False     False      True     False  \n",
       "5  False   True  False  False      True     False     False  "
      ]
     },
     "execution_count": 217,
     "metadata": {},
     "output_type": "execute_result"
    }
   ],
   "source": [
    "df.head()"
   ]
  },
  {
   "cell_type": "code",
   "execution_count": 218,
   "id": "3007c5b5-9ad8-4401-9656-95adb54149a1",
   "metadata": {},
   "outputs": [],
   "source": [
    "df_train, df_test = train_test_split(df, test_size=0.2, random_state=42)"
   ]
  },
  {
   "cell_type": "code",
   "execution_count": 219,
   "id": "65cb139c-eb27-4bd0-a341-46452d702408",
   "metadata": {},
   "outputs": [
    {
     "data": {
      "text/plain": [
       "(208, 53)"
      ]
     },
     "execution_count": 219,
     "metadata": {},
     "output_type": "execute_result"
    }
   ],
   "source": [
    "len(df_train), len(df_test)"
   ]
  },
  {
   "cell_type": "code",
   "execution_count": 223,
   "id": "6973d8e8-aa9f-4abf-90d0-cdf9ae226b19",
   "metadata": {},
   "outputs": [],
   "source": [
    "def get_features_and_target_arrays(df, numerical_cols, category_cols, scaler):\n",
    "    # x_numeric_scales = scaler.fit_transform(df[numerical_cols])  \n",
    "    x_numeric_scales = df[numerical_cols]\n",
    "    x_categorical = df[category_cols].to_numpy()\n",
    "    x = np.hstack((x_categorical, x_numeric_scales)) #concatenate type ka add kr dega dono ko\n",
    "    y = df[\"result\"]\n",
    "    return x, y"
   ]
  },
  {
   "cell_type": "code",
   "execution_count": 438,
   "id": "8d49d8d8-7178-4f5a-a9b0-25f9b4ad6e14",
   "metadata": {},
   "outputs": [
    {
     "data": {
      "text/html": [
       "<div>\n",
       "<style scoped>\n",
       "    .dataframe tbody tr th:only-of-type {\n",
       "        vertical-align: middle;\n",
       "    }\n",
       "\n",
       "    .dataframe tbody tr th {\n",
       "        vertical-align: top;\n",
       "    }\n",
       "\n",
       "    .dataframe thead th {\n",
       "        text-align: right;\n",
       "    }\n",
       "</style>\n",
       "<table border=\"1\" class=\"dataframe\">\n",
       "  <thead>\n",
       "    <tr style=\"text-align: right;\">\n",
       "      <th></th>\n",
       "      <th>age</th>\n",
       "      <th>sex</th>\n",
       "      <th>trestbps</th>\n",
       "      <th>chol</th>\n",
       "      <th>fbs</th>\n",
       "      <th>thalach</th>\n",
       "      <th>exang</th>\n",
       "      <th>oldpeak</th>\n",
       "      <th>result</th>\n",
       "      <th>cp1</th>\n",
       "      <th>cp2</th>\n",
       "      <th>cp3</th>\n",
       "      <th>cp4</th>\n",
       "      <th>restecg0</th>\n",
       "      <th>restecg1</th>\n",
       "      <th>restecg2</th>\n",
       "    </tr>\n",
       "  </thead>\n",
       "  <tbody>\n",
       "    <tr>\n",
       "      <th>0</th>\n",
       "      <td>-2.525820</td>\n",
       "      <td>1</td>\n",
       "      <td>-0.149347</td>\n",
       "      <td>-1.782424</td>\n",
       "      <td>0.0</td>\n",
       "      <td>1.930425</td>\n",
       "      <td>0.0</td>\n",
       "      <td>-0.658254</td>\n",
       "      <td>0</td>\n",
       "      <td>False</td>\n",
       "      <td>True</td>\n",
       "      <td>False</td>\n",
       "      <td>False</td>\n",
       "      <td>False</td>\n",
       "      <td>False</td>\n",
       "      <td>True</td>\n",
       "    </tr>\n",
       "    <tr>\n",
       "      <th>1</th>\n",
       "      <td>-2.398061</td>\n",
       "      <td>1</td>\n",
       "      <td>-0.715089</td>\n",
       "      <td>-0.088855</td>\n",
       "      <td>0.0</td>\n",
       "      <td>0.876100</td>\n",
       "      <td>0.0</td>\n",
       "      <td>-0.658254</td>\n",
       "      <td>0</td>\n",
       "      <td>False</td>\n",
       "      <td>True</td>\n",
       "      <td>False</td>\n",
       "      <td>False</td>\n",
       "      <td>True</td>\n",
       "      <td>False</td>\n",
       "      <td>False</td>\n",
       "    </tr>\n",
       "    <tr>\n",
       "      <th>3</th>\n",
       "      <td>-2.270301</td>\n",
       "      <td>0</td>\n",
       "      <td>2.113621</td>\n",
       "      <td>-0.180399</td>\n",
       "      <td>0.0</td>\n",
       "      <td>1.297830</td>\n",
       "      <td>0.0</td>\n",
       "      <td>-0.658254</td>\n",
       "      <td>0</td>\n",
       "      <td>True</td>\n",
       "      <td>False</td>\n",
       "      <td>False</td>\n",
       "      <td>False</td>\n",
       "      <td>False</td>\n",
       "      <td>True</td>\n",
       "      <td>False</td>\n",
       "    </tr>\n",
       "    <tr>\n",
       "      <th>4</th>\n",
       "      <td>-2.142542</td>\n",
       "      <td>0</td>\n",
       "      <td>-1.846574</td>\n",
       "      <td>-0.455032</td>\n",
       "      <td>0.0</td>\n",
       "      <td>0.454370</td>\n",
       "      <td>0.0</td>\n",
       "      <td>-0.658254</td>\n",
       "      <td>0</td>\n",
       "      <td>False</td>\n",
       "      <td>True</td>\n",
       "      <td>False</td>\n",
       "      <td>False</td>\n",
       "      <td>False</td>\n",
       "      <td>True</td>\n",
       "      <td>False</td>\n",
       "    </tr>\n",
       "    <tr>\n",
       "      <th>5</th>\n",
       "      <td>-2.014782</td>\n",
       "      <td>0</td>\n",
       "      <td>-1.563703</td>\n",
       "      <td>-0.775437</td>\n",
       "      <td>0.0</td>\n",
       "      <td>1.086965</td>\n",
       "      <td>0.0</td>\n",
       "      <td>-0.658254</td>\n",
       "      <td>0</td>\n",
       "      <td>False</td>\n",
       "      <td>True</td>\n",
       "      <td>False</td>\n",
       "      <td>False</td>\n",
       "      <td>True</td>\n",
       "      <td>False</td>\n",
       "      <td>False</td>\n",
       "    </tr>\n",
       "  </tbody>\n",
       "</table>\n",
       "</div>"
      ],
      "text/plain": [
       "        age  sex  trestbps      chol  fbs   thalach  exang   oldpeak  result  \\\n",
       "0 -2.525820    1 -0.149347 -1.782424  0.0  1.930425    0.0 -0.658254       0   \n",
       "1 -2.398061    1 -0.715089 -0.088855  0.0  0.876100    0.0 -0.658254       0   \n",
       "3 -2.270301    0  2.113621 -0.180399  0.0  1.297830    0.0 -0.658254       0   \n",
       "4 -2.142542    0 -1.846574 -0.455032  0.0  0.454370    0.0 -0.658254       0   \n",
       "5 -2.014782    0 -1.563703 -0.775437  0.0  1.086965    0.0 -0.658254       0   \n",
       "\n",
       "     cp1    cp2    cp3    cp4  restecg0  restecg1  restecg2  \n",
       "0  False   True  False  False     False     False      True  \n",
       "1  False   True  False  False      True     False     False  \n",
       "3   True  False  False  False     False      True     False  \n",
       "4  False   True  False  False     False      True     False  \n",
       "5  False   True  False  False      True     False     False  "
      ]
     },
     "execution_count": 438,
     "metadata": {},
     "output_type": "execute_result"
    }
   ],
   "source": [
    "df.head()"
   ]
  },
  {
   "cell_type": "code",
   "execution_count": 363,
   "id": "12cce8ac-c1ed-4954-a73e-c42d87d6b078",
   "metadata": {},
   "outputs": [
    {
     "data": {
      "text/plain": [
       "0      0\n",
       "1      0\n",
       "3      0\n",
       "4      0\n",
       "5      0\n",
       "      ..\n",
       "289    1\n",
       "290    1\n",
       "291    1\n",
       "292    1\n",
       "293    1\n",
       "Name: result, Length: 261, dtype: int64"
      ]
     },
     "execution_count": 363,
     "metadata": {},
     "output_type": "execute_result"
    }
   ],
   "source": [
    "y = df[\"result\"]\n",
    "X = df.drop([\"result\"], axis=1)"
   ]
  },
  {
   "cell_type": "markdown",
   "id": "43e4e4d8-8e66-49e8-8d9c-a10f90df99ec",
   "metadata": {},
   "source": [
    "# Machine Learning Models To Find The Accuracy Of The Model"
   ]
  },
  {
   "cell_type": "code",
   "execution_count": 441,
   "id": "7aa06e71-0f76-45db-8498-930d96c92760",
   "metadata": {},
   "outputs": [
    {
     "data": {
      "text/html": [
       "<div>\n",
       "<style scoped>\n",
       "    .dataframe tbody tr th:only-of-type {\n",
       "        vertical-align: middle;\n",
       "    }\n",
       "\n",
       "    .dataframe tbody tr th {\n",
       "        vertical-align: top;\n",
       "    }\n",
       "\n",
       "    .dataframe thead th {\n",
       "        text-align: right;\n",
       "    }\n",
       "</style>\n",
       "<table border=\"1\" class=\"dataframe\">\n",
       "  <thead>\n",
       "    <tr style=\"text-align: right;\">\n",
       "      <th></th>\n",
       "      <th>age</th>\n",
       "      <th>sex</th>\n",
       "      <th>trestbps</th>\n",
       "      <th>chol</th>\n",
       "      <th>fbs</th>\n",
       "      <th>thalach</th>\n",
       "      <th>exang</th>\n",
       "      <th>oldpeak</th>\n",
       "      <th>result</th>\n",
       "      <th>cp1</th>\n",
       "      <th>cp2</th>\n",
       "      <th>cp3</th>\n",
       "      <th>cp4</th>\n",
       "      <th>restecg0</th>\n",
       "      <th>restecg1</th>\n",
       "      <th>restecg2</th>\n",
       "    </tr>\n",
       "  </thead>\n",
       "  <tbody>\n",
       "    <tr>\n",
       "      <th>0</th>\n",
       "      <td>-2.52582</td>\n",
       "      <td>1</td>\n",
       "      <td>-0.149347</td>\n",
       "      <td>-1.782424</td>\n",
       "      <td>0.0</td>\n",
       "      <td>1.930425</td>\n",
       "      <td>0.0</td>\n",
       "      <td>-0.658254</td>\n",
       "      <td>0</td>\n",
       "      <td>False</td>\n",
       "      <td>True</td>\n",
       "      <td>False</td>\n",
       "      <td>False</td>\n",
       "      <td>False</td>\n",
       "      <td>False</td>\n",
       "      <td>True</td>\n",
       "    </tr>\n",
       "  </tbody>\n",
       "</table>\n",
       "</div>"
      ],
      "text/plain": [
       "       age  sex  trestbps      chol  fbs   thalach  exang   oldpeak  result  \\\n",
       "0 -2.52582    1 -0.149347 -1.782424  0.0  1.930425    0.0 -0.658254       0   \n",
       "\n",
       "     cp1   cp2    cp3    cp4  restecg0  restecg1  restecg2  \n",
       "0  False  True  False  False     False     False      True  "
      ]
     },
     "execution_count": 441,
     "metadata": {},
     "output_type": "execute_result"
    }
   ],
   "source": [
    "x_train, y_train = get_features_and_target_arrays(df_train, numerical_cols, category_cols, scaler)\n",
    "x_test, y_test = get_features_and_target_arrays(df_test, category_cols, numerical_cols, scaler)\n",
    "df.head(1)"
   ]
  },
  {
   "cell_type": "markdown",
   "id": "f4aa666e-82d0-4cb8-b902-742c44c7f802",
   "metadata": {},
   "source": [
    "# LOGISTIC REGRESSION"
   ]
  },
  {
   "cell_type": "code",
   "execution_count": 456,
   "id": "be814961-b7c1-4782-96b4-8ec3f69ad31d",
   "metadata": {},
   "outputs": [
    {
     "name": "stdout",
     "output_type": "stream",
     "text": [
      "Accuracy of the model is :  0.8301886792452831\n",
      "Cross Val Accuracy of the model is :  0.8277472527472529\n"
     ]
    }
   ],
   "source": [
    "log_clf = LogisticRegression()\n",
    "log_clf.fit(x_train, y_train)  # Fitting in the train data\n",
    "\n",
    "log_test_pred = log_clf.predict(x_test)  # Predicting for test dataset\n",
    "# mean_squared_error(y_test, test_pred)  # Calculating Mean_squared_error\n",
    "log_acc = accuracy_score(y_test, test_pred)  # Calculating the accuracy of the model by comparing it with the actual values\n",
    "print(\"Accuracy of the model is : \", log_acc) # Printing the accuracy\n",
    "\n",
    "log_score = cross_val_score(log_clf, X, y, cv=20)  # Cross_val_score Logistic Classification\n",
    "log_cross_accuracy = log_score.mean()\n",
    "print(\"Cross Val Accuracy of the model is : \", log_cross_accuracy)"
   ]
  },
  {
   "cell_type": "code",
   "execution_count": 342,
   "id": "8ef0e3fc-7cb8-4b07-8776-f4fa549e893e",
   "metadata": {},
   "outputs": [
    {
     "data": {
      "text/plain": [
       "array([[28,  5],\n",
       "       [ 4, 16]], dtype=int64)"
      ]
     },
     "execution_count": 342,
     "metadata": {},
     "output_type": "execute_result"
    }
   ],
   "source": [
    "confusion_matrix(y_test, test_pred)"
   ]
  },
  {
   "cell_type": "markdown",
   "id": "d9ffafac-888b-4531-bc43-34913618964c",
   "metadata": {},
   "source": [
    "# DECISIONTREE CLASSIFICATION"
   ]
  },
  {
   "cell_type": "code",
   "execution_count": 445,
   "id": "94fd7272-f51b-467c-b343-aaac2463d7f5",
   "metadata": {},
   "outputs": [
    {
     "name": "stdout",
     "output_type": "stream",
     "text": [
      "Accuracy of the model is :  0.4528301886792453\n",
      "Cross Val Accuracy of the model is :  0.7007122507122507\n"
     ]
    }
   ],
   "source": [
    "dt_clf = DecisionTreeClassifier()\n",
    "dt_clf.fit(x_train, y_train)\n",
    "\n",
    "dt_test_pred = dt_clf.predict(x_test)  # Normal DecisionTree Classification\n",
    "# print(mean_squared_error(y_test, dt_test_pred))\n",
    "dt_acc = accuracy_score(y_test, dt_test_pred)\n",
    "print(\"Accuracy of the model is : \", dt_acc)\n",
    "\n",
    "dt_score = cross_val_score(dt_clf, X, y, cv=10)  # Cross_val_score DecisionTree Classification\n",
    "dt_cross_accuracy = dt_score.mean()  # Calculating the mean of the cross_val_score\n",
    "print(\"Cross Val Accuracy of the model is : \", dt_cross_accuracy)\n"
   ]
  },
  {
   "cell_type": "markdown",
   "id": "ae105cc5-e61e-4fe1-9211-8148b60d0fb3",
   "metadata": {},
   "source": [
    "# RANDOMFOREST CLASSIFICATION"
   ]
  },
  {
   "cell_type": "code",
   "execution_count": 446,
   "id": "2fd7db9a-08d6-42d8-90a9-69e51e2439f0",
   "metadata": {},
   "outputs": [
    {
     "name": "stdout",
     "output_type": "stream",
     "text": [
      "Accuracy of the model is :  0.4528301886792453\n",
      "Cross Val Accuracy of the model is :  0.7740740740740742\n"
     ]
    }
   ],
   "source": [
    "rf_clf = RandomForestClassifier(n_estimators=10)\n",
    "rf_clf.fit(x_train, y_train)\n",
    "\n",
    "rf_test_pred = rf_clf.predict(x_test)  # Normal RandomForest Classification \n",
    "rf_acc = accuracy_score(y_test, rf_test_pred)\n",
    "print(\"Accuracy of the model is : \", rf_acc)\n",
    "\n",
    "rf_score = cross_val_score(rf_clf, X, y, cv=15)  # Cross_val_score RandomForest Classification\n",
    "rf_cross_accuracy = rf_score.mean()\n",
    "print(\"Cross Val Accuracy of the model is : \", rf_cross_accuracy)\n",
    "\n",
    "# print(mean_squared_error(y_test, rf_test_pred))"
   ]
  },
  {
   "cell_type": "markdown",
   "id": "176e7330-bbc6-4c29-8ce2-e23fb3f40b2e",
   "metadata": {},
   "source": [
    "# SVM CLASSIFICATION"
   ]
  },
  {
   "cell_type": "code",
   "execution_count": 447,
   "id": "f3b383cd-44c3-4188-993c-6db83694ea16",
   "metadata": {},
   "outputs": [
    {
     "name": "stdout",
     "output_type": "stream",
     "text": [
      "Accuracy of the model is :  0.5094339622641509\n",
      "Cross Val Accuracy of the model is :  0.8009971509971511\n"
     ]
    }
   ],
   "source": [
    "svm_clf = SVC()\n",
    "svm_clf.fit(x_train, y_train)\n",
    "\n",
    "svm_test_pred = svm_clf.predict(x_test)  # Normal SVM\n",
    "# print(mean_squared_error(y_test, svm_test_pred))\n",
    "svm_accuracy = accuracy_score(y_test, svm_test_pred)\n",
    "print(\"Accuracy of the model is : \", svm_accuracy)\n",
    "\n",
    "\n",
    "svm_score = cross_val_score(svm_clf, X, y, cv=10)  # Cross_val_score SVM\n",
    "svm_cross_accuracy = svm_score.mean()\n",
    "print(\"Cross Val Accuracy of the model is : \", svm_cross_accuracy)"
   ]
  },
  {
   "cell_type": "markdown",
   "id": "4ed6685d-e3f6-47c8-9f9a-85d2f56dc9e0",
   "metadata": {},
   "source": [
    "# KNN CROSS_VAL_SCORE FROM K = 1 TO K = 21"
   ]
  },
  {
   "cell_type": "code",
   "execution_count": 461,
   "id": "7ae22bee-7503-422d-b2a6-532895ab1b7f",
   "metadata": {},
   "outputs": [
    {
     "name": "stdout",
     "output_type": "stream",
     "text": [
      "Mean of all cross_val_scores is :  0.7949358974358973\n"
     ]
    }
   ],
   "source": [
    "knn_scores = []\n",
    "a = 0;\n",
    "for i in range(1, 21):\n",
    "    knn_classifier = KNeighborsClassifier(n_neighbors=i)\n",
    "    score = cross_val_score(knn_classifier, X, y, cv=10)\n",
    "    knn_scores.append(score.mean())\n",
    "    a = a + score.mean()\n",
    "print(\"Mean of all cross_val_scores is : \", a/20)"
   ]
  },
  {
   "cell_type": "markdown",
   "id": "33117f69-3de8-4dc4-ae0a-64ffbf24294a",
   "metadata": {},
   "source": [
    "# VISIUALISING THE BEST VALUE OF K "
   ]
  },
  {
   "cell_type": "code",
   "execution_count": 462,
   "id": "b4aaa610-9587-4e6d-bc35-ef8fdcc648ec",
   "metadata": {},
   "outputs": [
    {
     "data": {
      "text/plain": [
       "Text(0.5, 1.0, 'Classification depending on the value of K')"
      ]
     },
     "execution_count": 462,
     "metadata": {},
     "output_type": "execute_result"
    },
    {
     "data": {
      "image/png": "[encoded data removed]",
      "text/plain": [
       "<Figure size 1800x800 with 1 Axes>"
      ]
     },
     "metadata": {},
     "output_type": "display_data"
    }
   ],
   "source": [
    "plt.figure(figsize=(18,8))\n",
    "plt.plot(knn_scores, marker='.', color='red', linewidth=.7)\n",
    "for i, score in enumerate(knn_scores):\n",
    "    # plt.text(i, score, str(round(score, 7)), ha='center', va='bottom')\n",
    "    plt.text(i, score, str(round(score, 7)))\n",
    "plt.xticks([i for i in range(1, 21)])\n",
    "plt.xlabel(\"Number of Neighbors (K)\")\n",
    "plt.ylabel(\"Accuracy Scores\")\n",
    "plt.title(\"Classification depending on the value of K\")\n"
   ]
  },
  {
   "cell_type": "code",
   "execution_count": 451,
   "id": "9927cf4f-3778-4915-8600-37565f8bcaf7",
   "metadata": {},
   "outputs": [
    {
     "name": "stdout",
     "output_type": "stream",
     "text": [
      "Accuracy of the model is :  0.5094339622641509\n",
      "Cross Val Accuracy of the model is :  0.8086894586894587\n"
     ]
    }
   ],
   "source": [
    "knn_clf = KNeighborsClassifier(n_neighbors=5) # K=5 gives the best accuracy\n",
    "knn_clf.fit(x_train, y_train)\n",
    "\n",
    "\n",
    "knn_test_pred = knn_clf.predict(x_test)  # Normal KNN \n",
    "knn_accuracy = accuracy_score(y_test, knn_test_pred)\n",
    "print(\"Accuracy of the model is : \", knn_accuracy)\n",
    "\n",
    "knn_score = cross_val_score(knn_clf, X, y, cv=10) # Cross_val_score KNN\n",
    "# print(knn_score)\n",
    "knn_cross_accuracy = knn_score.mean()\n",
    "print(\"Cross Val Accuracy of the model is : \", knn_cross_accuracy)"
   ]
  },
  {
   "cell_type": "markdown",
   "id": "16e49be2-31b4-4325-beac-15115fbb0d5f",
   "metadata": {},
   "source": [
    "# CHECKING IF STACKING GIVES MORE ACCURACY"
   ]
  },
  {
   "cell_type": "code",
   "execution_count": 500,
   "id": "72212ca5-81ea-4ce3-a219-cbc5f3f55ec9",
   "metadata": {},
   "outputs": [],
   "source": [
    "stacked = StackingRegressor(regressors=[log_clf, rf_clf, dt_clf, knn_clf], meta_regressor=log_clf)"
   ]
  },
  {
   "cell_type": "code",
   "execution_count": 504,
   "id": "1a87341f-1257-40db-abcf-ad74e65f26d6",
   "metadata": {},
   "outputs": [
    {
     "name": "stdout",
     "output_type": "stream",
     "text": [
      "0.5094339622641509\n"
     ]
    }
   ],
   "source": [
    "stacked.fit(x_train, y_train)\n",
    "stacked_pred = stacked.predict(x_test)\n",
    "stacked_accuracy = accuracy_score(y_test, stacked_pred)\n",
    "print(stacked_accuracy)"
   ]
  },
  {
   "cell_type": "code",
   "execution_count": null,
   "id": "f9b025b0-7e8a-4e88-b858-d65e084f73a3",
   "metadata": {},
   "outputs": [],
   "source": []
  }
 ],
 "metadata": {
  "kernelspec": {
   "display_name": "Python 3 (ipykernel)",
   "language": "python",
   "name": "python3"
  },
  "language_info": {
   "codemirror_mode": {
    "name": "ipython",
    "version": 3
   },
   "file_extension": ".py",
   "mimetype": "text/x-python",
   "name": "python",
   "nbconvert_exporter": "python",
   "pygments_lexer": "ipython3",
   "version": "3.11.4"
  }
 },
 "nbformat": 4,
 "nbformat_minor": 5
}
